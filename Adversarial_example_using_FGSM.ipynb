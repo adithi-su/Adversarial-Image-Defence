{
  "nbformat": 4,
  "nbformat_minor": 0,
  "metadata": {
    "colab": {
      "name": "Adversarial example using FGSM.ipynb",
      "provenance": [],
      "collapsed_sections": []
    },
    "kernelspec": {
      "name": "python3",
      "display_name": "Python 3"
    }
  },
  "cells": [
    {
      "cell_type": "markdown",
      "metadata": {
        "id": "oGWa8H9x3jO3"
      },
      "source": [
        "The paper, Explaining and Harnessing Adversarial Examples, describes a function known as Fast Gradient Sign Method, or FGSM, for generating adversarial noise: <br>\n",
        "η=ϵ sign(∇ₓ J(θ,x,y)) <br>\n",
        "<ol>\n",
        "    <li>We take the gradient of the cost function with respect to the model’s input, output, and weights. This operation is expressed in math by ∇ₓJ(θ, x, y).<br> J(θ, x, y) is the mathematical representation of the loss of the model, where θ is the parameters of the model, x, is the input to the model, and y is the output of the model.</li>\n",
        "<li>We take the sign of each term in the gradient, reducing it to a matrix of -1s, 0s, and 1s.\n",
        "Lastly, we scale down the perturbations, by multiplying them by some small float, ϵ.<br>\n",
        "    This results in η, which is the variable used to represent the adversarial perturbations.</li></ol>"
      ]
    },
    {
      "cell_type": "code",
      "metadata": {
        "id": "n1Jqa1nv3p_N"
      },
      "source": [
        "import tensorflow as tf\n",
        "\n",
        "from tensorflow.keras.datasets import mnist,cifar10\n",
        "\n",
        "from tensorflow.keras import Sequential\n",
        "from tensorflow.keras.callbacks import LambdaCallback\n",
        "from tensorflow.keras.layers import Conv2D, MaxPooling2D, Dropout, Dense, Flatten, Activation\n",
        "\n",
        "import numpy as np\n",
        "import random\n",
        "\n",
        "import matplotlib.pyplot as plt"
      ],
      "execution_count": 34,
      "outputs": []
    },
    {
      "cell_type": "code",
      "metadata": {
        "id": "rDnMAHN13147"
      },
      "source": [
        "(x_train, y_train), (x_test, y_test) = mnist.load_data() #load data"
      ],
      "execution_count": 2,
      "outputs": []
    },
    {
      "cell_type": "code",
      "metadata": {
        "id": "YDvrNOxQ79pH"
      },
      "source": [
        "labels = ['zero', 'one', 'two', 'three', 'four', 'five', 'six', 'seven', 'eight', 'nine']"
      ],
      "execution_count": 9,
      "outputs": []
    },
    {
      "cell_type": "code",
      "metadata": {
        "id": "m8OYiKed6wOu"
      },
      "source": [
        "# Process the data, normalize it, reshape it, and one-hot-encode the labels"
      ],
      "execution_count": 6,
      "outputs": []
    },
    {
      "cell_type": "code",
      "metadata": {
        "colab": {
          "base_uri": "https://localhost:8080/"
        },
        "id": "wECzrk5P4C7Q",
        "outputId": "34051644-4eed-4e54-e884-855768c6473e"
      },
      "source": [
        "img_rows, img_cols, channels = 28, 28, 1\n",
        "num_classes = 10\n",
        "\n",
        "x_train = x_train / 255\n",
        "x_test = x_test / 255\n",
        "\n",
        "x_train = x_train.reshape((-1, img_rows, img_cols, channels))\n",
        "x_test = x_test.reshape((-1, img_rows, img_cols, channels))\n",
        "\n",
        "y_train = tf.keras.utils.to_categorical(y_train, num_classes)\n",
        "y_test = tf.keras.utils.to_categorical(y_test, num_classes)\n",
        "\n",
        "print(\"Data shapes\", x_test.shape, y_test.shape, x_train.shape, y_train.shape)"
      ],
      "execution_count": 3,
      "outputs": [
        {
          "output_type": "stream",
          "text": [
            "Data shapes (10000, 28, 28, 1) (10000, 10) (60000, 28, 28, 1) (60000, 10)\n"
          ],
          "name": "stdout"
        }
      ]
    },
    {
      "cell_type": "code",
      "metadata": {
        "id": "48dpCEQe6KgU"
      },
      "source": [
        "def create_model():\n",
        "    model = Sequential()\n",
        "    model.add(Conv2D(32, kernel_size=(3, 3), strides=(3, 3), padding='same', activation='relu', input_shape=(img_rows, img_cols, channels)))\n",
        "    model.add(Conv2D(64, kernel_size=(3, 3), strides=(3, 3), padding='same', activation='relu'))\n",
        "    model.add(Conv2D(64, kernel_size=(3, 3), strides=(3, 3), padding='same', activation='relu'))\n",
        "    model.add(MaxPooling2D(pool_size=(2, 2)))\n",
        "    model.add(Dropout(0.2))\n",
        "    model.add(Flatten())\n",
        "    model.add(Dense(32))\n",
        "    model.add(Dropout(0.2))\n",
        "    model.add(Dense(32))\n",
        "    model.add(Dropout(0.2))\n",
        "    model.add(Dense(num_classes, activation='softmax'))\n",
        "\n",
        "    model.compile(optimizer='adam', loss='mse', metrics=['accuracy'])\n",
        "    \n",
        "    return model\n",
        "\n",
        "model = create_model()"
      ],
      "execution_count": 4,
      "outputs": []
    },
    {
      "cell_type": "code",
      "metadata": {
        "colab": {
          "base_uri": "https://localhost:8080/"
        },
        "id": "tkkSo_t_6bqy",
        "outputId": "161a7246-967a-408f-ae90-b02631e2f353"
      },
      "source": [
        "model.fit(x_train, y_train,\n",
        "          batch_size=32,\n",
        "          epochs=20,\n",
        "          validation_data=(x_test, y_test))"
      ],
      "execution_count": 5,
      "outputs": [
        {
          "output_type": "stream",
          "text": [
            "Epoch 1/20\n",
            "1875/1875 [==============================] - 15s 8ms/step - loss: 0.0334 - accuracy: 0.7476 - val_loss: 0.0061 - val_accuracy: 0.9598\n",
            "Epoch 2/20\n",
            "1875/1875 [==============================] - 14s 7ms/step - loss: 0.0097 - accuracy: 0.9365 - val_loss: 0.0051 - val_accuracy: 0.9656\n",
            "Epoch 3/20\n",
            "1875/1875 [==============================] - 14s 7ms/step - loss: 0.0078 - accuracy: 0.9501 - val_loss: 0.0040 - val_accuracy: 0.9734\n",
            "Epoch 4/20\n",
            "1875/1875 [==============================] - 14s 7ms/step - loss: 0.0064 - accuracy: 0.9594 - val_loss: 0.0042 - val_accuracy: 0.9722\n",
            "Epoch 5/20\n",
            "1875/1875 [==============================] - 14s 7ms/step - loss: 0.0059 - accuracy: 0.9621 - val_loss: 0.0037 - val_accuracy: 0.9770\n",
            "Epoch 6/20\n",
            "1875/1875 [==============================] - 14s 7ms/step - loss: 0.0052 - accuracy: 0.9670 - val_loss: 0.0037 - val_accuracy: 0.9771\n",
            "Epoch 7/20\n",
            "1875/1875 [==============================] - 14s 7ms/step - loss: 0.0048 - accuracy: 0.9697 - val_loss: 0.0035 - val_accuracy: 0.9775\n",
            "Epoch 8/20\n",
            "1875/1875 [==============================] - 14s 7ms/step - loss: 0.0045 - accuracy: 0.9715 - val_loss: 0.0034 - val_accuracy: 0.9784\n",
            "Epoch 9/20\n",
            "1875/1875 [==============================] - 14s 7ms/step - loss: 0.0044 - accuracy: 0.9725 - val_loss: 0.0031 - val_accuracy: 0.9803\n",
            "Epoch 10/20\n",
            "1875/1875 [==============================] - 14s 7ms/step - loss: 0.0038 - accuracy: 0.9759 - val_loss: 0.0032 - val_accuracy: 0.9797\n",
            "Epoch 11/20\n",
            "1875/1875 [==============================] - 13s 7ms/step - loss: 0.0039 - accuracy: 0.9752 - val_loss: 0.0031 - val_accuracy: 0.9804\n",
            "Epoch 12/20\n",
            "1875/1875 [==============================] - 14s 7ms/step - loss: 0.0036 - accuracy: 0.9778 - val_loss: 0.0031 - val_accuracy: 0.9796\n",
            "Epoch 13/20\n",
            "1875/1875 [==============================] - 13s 7ms/step - loss: 0.0037 - accuracy: 0.9762 - val_loss: 0.0030 - val_accuracy: 0.9808\n",
            "Epoch 14/20\n",
            "1875/1875 [==============================] - 14s 7ms/step - loss: 0.0036 - accuracy: 0.9767 - val_loss: 0.0030 - val_accuracy: 0.9818\n",
            "Epoch 15/20\n",
            "1875/1875 [==============================] - 14s 7ms/step - loss: 0.0035 - accuracy: 0.9778 - val_loss: 0.0029 - val_accuracy: 0.9808\n",
            "Epoch 16/20\n",
            "1875/1875 [==============================] - 14s 7ms/step - loss: 0.0033 - accuracy: 0.9788 - val_loss: 0.0032 - val_accuracy: 0.9804\n",
            "Epoch 17/20\n",
            "1875/1875 [==============================] - 14s 7ms/step - loss: 0.0031 - accuracy: 0.9806 - val_loss: 0.0031 - val_accuracy: 0.9803\n",
            "Epoch 18/20\n",
            "1875/1875 [==============================] - 14s 7ms/step - loss: 0.0033 - accuracy: 0.9798 - val_loss: 0.0027 - val_accuracy: 0.9830\n",
            "Epoch 19/20\n",
            "1875/1875 [==============================] - 14s 7ms/step - loss: 0.0030 - accuracy: 0.9811 - val_loss: 0.0030 - val_accuracy: 0.9819\n",
            "Epoch 20/20\n",
            "1875/1875 [==============================] - 13s 7ms/step - loss: 0.0029 - accuracy: 0.9816 - val_loss: 0.0031 - val_accuracy: 0.9812\n"
          ],
          "name": "stdout"
        },
        {
          "output_type": "execute_result",
          "data": {
            "text/plain": [
              "<tensorflow.python.keras.callbacks.History at 0x7f5b01b50b10>"
            ]
          },
          "metadata": {
            "tags": []
          },
          "execution_count": 5
        }
      ]
    },
    {
      "cell_type": "code",
      "metadata": {
        "colab": {
          "base_uri": "https://localhost:8080/"
        },
        "id": "XYLWHtFr6jnA",
        "outputId": "7787f14e-03ff-41f7-d5cb-80eb49e88b03"
      },
      "source": [
        "print(\"Base accuracy on regular images:\", model.evaluate(x=x_test, y=y_test))"
      ],
      "execution_count": 8,
      "outputs": [
        {
          "output_type": "stream",
          "text": [
            "313/313 [==============================] - 1s 3ms/step - loss: 0.0031 - accuracy: 0.9812\n",
            "Base accuracy on regular images: [0.0030926421750336885, 0.9811999797821045]\n"
          ],
          "name": "stdout"
        }
      ]
    },
    {
      "cell_type": "code",
      "metadata": {
        "id": "Dq2OKfBc7B9G"
      },
      "source": [
        "def adversarial_pattern(image, label):\n",
        "    image = tf.cast(image, tf.float32)\n",
        "    \n",
        "    with tf.GradientTape() as tape:   # J(θ, x, y)\n",
        "        tape.watch(image)\n",
        "        prediction = model(image)\n",
        "        loss = tf.keras.losses.MSE(label, prediction)\n",
        "    \n",
        "    gradient = tape.gradient(loss, image) # ∇ₓ\n",
        "    \n",
        "    signed_grad = tf.sign(gradient)\n",
        "    \n",
        "    return signed_grad"
      ],
      "execution_count": 10,
      "outputs": []
    },
    {
      "cell_type": "code",
      "metadata": {
        "id": "HwDN1Y7y7paM"
      },
      "source": [
        "# creating an adversarial image\n",
        "image = x_train[15]\n",
        "image_label = y_train[15]\n",
        "perturbations = adversarial_pattern(image.reshape((1, img_rows, img_cols, channels)), image_label).numpy() # .numpy() converts the EagerTensor object into a numpy array\n",
        "adversarial = image + perturbations * 0.1"
      ],
      "execution_count": 29,
      "outputs": []
    },
    {
      "cell_type": "code",
      "metadata": {
        "colab": {
          "base_uri": "https://localhost:8080/",
          "height": 299
        },
        "id": "7HOWkXNq8d_A",
        "outputId": "ad62dd92-e1cd-4c82-a747-fa385e817629"
      },
      "source": [
        "if channels == 1:\n",
        "    plt.imshow(adversarial.reshape((img_rows, img_cols)))\n",
        "else:\n",
        "    plt.imshow(adversarial.reshape((img_rows, img_cols, channels)))\n",
        "plt.show()\n",
        "print('Truth:',labels[model.predict(image.reshape((1, img_rows, img_cols, channels))).argmax()])\n",
        "print('Prediction:',labels[model.predict(adversarial).argmax()])"
      ],
      "execution_count": 30,
      "outputs": [
        {
          "output_type": "display_data",
          "data": {
            "image/png": "[encoded data removed]",
            "text/plain": [
              "<Figure size 432x288 with 1 Axes>"
            ]
          },
          "metadata": {
            "tags": [],
            "needs_background": "light"
          }
        },
        {
          "output_type": "stream",
          "text": [
            "Truth: seven\n",
            "Prediction: nine\n"
          ],
          "name": "stdout"
        }
      ]
    },
    {
      "cell_type": "code",
      "metadata": {
        "id": "3i-p-PpW8x2G"
      },
      "source": [
        "# original model predicts 7\n",
        "# adversarial example generates 9"
      ],
      "execution_count": 31,
      "outputs": []
    },
    {
      "cell_type": "code",
      "metadata": {
        "colab": {
          "base_uri": "https://localhost:8080/",
          "height": 299
        },
        "id": "MV6r6EkM9CCI",
        "outputId": "d7defd9c-4def-470d-f4a9-a9a576e3174f"
      },
      "source": [
        "# example 2 \n",
        "image = x_train[10]\n",
        "image_label = y_train[10]\n",
        "perturbations = adversarial_pattern(image.reshape((1, img_rows, img_cols, channels)), image_label).numpy() # .numpy() converts the EagerTensor object into a numpy array\n",
        "adversarial = image + perturbations * 0.09\n",
        "if channels == 1:\n",
        "    plt.imshow(adversarial.reshape((img_rows, img_cols)))\n",
        "else:\n",
        "    plt.imshow(adversarial.reshape((img_rows, img_cols, channels)))\n",
        "plt.show()\n",
        "print('Truth:',labels[model.predict(image.reshape((1, img_rows, img_cols, channels))).argmax()])\n",
        "print('Prediction:',labels[model.predict(adversarial).argmax()])"
      ],
      "execution_count": 28,
      "outputs": [
        {
          "output_type": "display_data",
          "data": {
            "image/png": "[encoded data removed]",
            "text/plain": [
              "<Figure size 432x288 with 1 Axes>"
            ]
          },
          "metadata": {
            "tags": [],
            "needs_background": "light"
          }
        },
        {
          "output_type": "stream",
          "text": [
            "Truth: three\n",
            "Prediction: one\n"
          ],
          "name": "stdout"
        }
      ]
    }
  ]
}