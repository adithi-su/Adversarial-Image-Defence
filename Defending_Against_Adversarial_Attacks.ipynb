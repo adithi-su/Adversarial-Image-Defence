{
  "nbformat": 4,
  "nbformat_minor": 0,
  "metadata": {
    "colab": {
      "name": "Defending Against Adversarial Attacks.ipynb",
      "provenance": []
    },
    "kernelspec": {
      "name": "python3",
      "display_name": "Python 3"
    }
  },
  "cells": [
    {
      "cell_type": "markdown",
      "metadata": {
        "id": "tsBxh__OA4y3"
      },
      "source": [
        "## Method 1 : By including adversarial examples in the training data."
      ]
    },
    {
      "cell_type": "code",
      "metadata": {
        "id": "QppM9ELtBJzG"
      },
      "source": [
        "import tensorflow as tf\n",
        "\n",
        "from tensorflow.keras.datasets import mnist\n",
        "\n",
        "from tensorflow.keras import Sequential\n",
        "from tensorflow.keras.callbacks import LambdaCallback\n",
        "from tensorflow.keras.layers import Conv2D, MaxPooling2D, Dropout, Dense, Flatten, Activation\n",
        "\n",
        "import numpy as np\n",
        "import random\n",
        "\n",
        "import matplotlib.pyplot as plt"
      ],
      "execution_count": 1,
      "outputs": []
    },
    {
      "cell_type": "code",
      "metadata": {
        "colab": {
          "base_uri": "https://localhost:8080/"
        },
        "id": "W925uAakBM4z",
        "outputId": "4c57b5a9-ece3-41bc-a6c9-115740dd6613"
      },
      "source": [
        "(x_train, y_train), (x_test, y_test) = mnist.load_data()"
      ],
      "execution_count": 2,
      "outputs": [
        {
          "output_type": "stream",
          "text": [
            "Downloading data from https://storage.googleapis.com/tensorflow/tf-keras-datasets/mnist.npz\n",
            "11493376/11490434 [==============================] - 0s 0us/step\n"
          ],
          "name": "stdout"
        }
      ]
    },
    {
      "cell_type": "code",
      "metadata": {
        "id": "QMjk6UKwBRBN"
      },
      "source": [
        "labels = ['zero', 'one', 'two', 'three', 'four', 'five', 'six', 'seven', 'eight', 'nine']"
      ],
      "execution_count": 3,
      "outputs": []
    },
    {
      "cell_type": "code",
      "metadata": {
        "colab": {
          "base_uri": "https://localhost:8080/"
        },
        "id": "KzInNaMoBUcR",
        "outputId": "0adf943e-5ac0-472f-9ff6-8f6ef86baa53"
      },
      "source": [
        "img_rows, img_cols, channels = 28, 28, 1\n",
        "num_classes = 10\n",
        "\n",
        "x_train = x_train / 255\n",
        "x_test = x_test / 255\n",
        "\n",
        "x_train = x_train.reshape((-1, img_rows, img_cols, channels))\n",
        "x_test = x_test.reshape((-1, img_rows, img_cols, channels))\n",
        "\n",
        "y_train = tf.keras.utils.to_categorical(y_train, num_classes)\n",
        "y_test = tf.keras.utils.to_categorical(y_test, num_classes)\n",
        "\n",
        "print(\"Data shapes\", x_test.shape, y_test.shape, x_train.shape, y_train.shape)"
      ],
      "execution_count": 4,
      "outputs": [
        {
          "output_type": "stream",
          "text": [
            "Data shapes (10000, 28, 28, 1) (10000, 10) (60000, 28, 28, 1) (60000, 10)\n"
          ],
          "name": "stdout"
        }
      ]
    },
    {
      "cell_type": "code",
      "metadata": {
        "id": "ivV_4l5dBcNG"
      },
      "source": [
        "def create_model():\n",
        "    model = Sequential()\n",
        "    model.add(Conv2D(32, kernel_size=(3, 3), strides=(3, 3), padding='same', activation='relu', input_shape=(img_rows, img_cols, channels)))\n",
        "    model.add(Conv2D(64, kernel_size=(3, 3), strides=(3, 3), padding='same', activation='relu'))\n",
        "    model.add(Conv2D(64, kernel_size=(3, 3), strides=(3, 3), padding='same', activation='relu'))\n",
        "    model.add(MaxPooling2D(pool_size=(2, 2)))\n",
        "    model.add(Dropout(0.2))\n",
        "    model.add(Flatten())\n",
        "    model.add(Dense(32))\n",
        "    model.add(Dropout(0.2))\n",
        "    model.add(Dense(32))\n",
        "    model.add(Dropout(0.2))\n",
        "    model.add(Dense(num_classes, activation='softmax'))\n",
        "\n",
        "    model.compile(optimizer='adam', loss='mse', metrics=['accuracy'])\n",
        "    \n",
        "    return model\n",
        "\n",
        "model = create_model()"
      ],
      "execution_count": 5,
      "outputs": []
    },
    {
      "cell_type": "code",
      "metadata": {
        "colab": {
          "base_uri": "https://localhost:8080/"
        },
        "id": "lDSORO7PBfgu",
        "outputId": "1dd8e8db-4d96-4150-f8e5-1ffe223a5f10"
      },
      "source": [
        "model.fit(x_train, y_train,\n",
        "          batch_size=32,\n",
        "          epochs=20,\n",
        "          validation_data=(x_test, y_test))"
      ],
      "execution_count": 6,
      "outputs": [
        {
          "output_type": "stream",
          "text": [
            "Epoch 1/20\n",
            "1875/1875 [==============================] - 17s 8ms/step - loss: 0.0333 - accuracy: 0.7506 - val_loss: 0.0067 - val_accuracy: 0.9568\n",
            "Epoch 2/20\n",
            "1875/1875 [==============================] - 15s 8ms/step - loss: 0.0100 - accuracy: 0.9347 - val_loss: 0.0051 - val_accuracy: 0.9660\n",
            "Epoch 3/20\n",
            "1875/1875 [==============================] - 15s 8ms/step - loss: 0.0076 - accuracy: 0.9512 - val_loss: 0.0046 - val_accuracy: 0.9702\n",
            "Epoch 4/20\n",
            "1875/1875 [==============================] - 15s 8ms/step - loss: 0.0067 - accuracy: 0.9567 - val_loss: 0.0039 - val_accuracy: 0.9748\n",
            "Epoch 5/20\n",
            "1875/1875 [==============================] - 15s 8ms/step - loss: 0.0057 - accuracy: 0.9635 - val_loss: 0.0036 - val_accuracy: 0.9773\n",
            "Epoch 6/20\n",
            "1875/1875 [==============================] - 15s 8ms/step - loss: 0.0051 - accuracy: 0.9682 - val_loss: 0.0040 - val_accuracy: 0.9744\n",
            "Epoch 7/20\n",
            "1875/1875 [==============================] - 15s 8ms/step - loss: 0.0052 - accuracy: 0.9666 - val_loss: 0.0036 - val_accuracy: 0.9767\n",
            "Epoch 8/20\n",
            "1875/1875 [==============================] - 15s 8ms/step - loss: 0.0048 - accuracy: 0.9695 - val_loss: 0.0031 - val_accuracy: 0.9799\n",
            "Epoch 9/20\n",
            "1875/1875 [==============================] - 15s 8ms/step - loss: 0.0045 - accuracy: 0.9718 - val_loss: 0.0034 - val_accuracy: 0.9794\n",
            "Epoch 10/20\n",
            "1875/1875 [==============================] - 15s 8ms/step - loss: 0.0043 - accuracy: 0.9726 - val_loss: 0.0034 - val_accuracy: 0.9784\n",
            "Epoch 11/20\n",
            "1875/1875 [==============================] - 15s 8ms/step - loss: 0.0042 - accuracy: 0.9731 - val_loss: 0.0032 - val_accuracy: 0.9803\n",
            "Epoch 12/20\n",
            "1875/1875 [==============================] - 15s 8ms/step - loss: 0.0040 - accuracy: 0.9748 - val_loss: 0.0033 - val_accuracy: 0.9797\n",
            "Epoch 13/20\n",
            "1875/1875 [==============================] - 15s 8ms/step - loss: 0.0035 - accuracy: 0.9780 - val_loss: 0.0032 - val_accuracy: 0.9799\n",
            "Epoch 14/20\n",
            "1875/1875 [==============================] - 15s 8ms/step - loss: 0.0036 - accuracy: 0.9773 - val_loss: 0.0033 - val_accuracy: 0.9804\n",
            "Epoch 15/20\n",
            "1875/1875 [==============================] - 15s 8ms/step - loss: 0.0036 - accuracy: 0.9777 - val_loss: 0.0035 - val_accuracy: 0.9790\n",
            "Epoch 16/20\n",
            "1875/1875 [==============================] - 15s 8ms/step - loss: 0.0035 - accuracy: 0.9781 - val_loss: 0.0032 - val_accuracy: 0.9803\n",
            "Epoch 17/20\n",
            "1875/1875 [==============================] - 14s 8ms/step - loss: 0.0034 - accuracy: 0.9782 - val_loss: 0.0031 - val_accuracy: 0.9815\n",
            "Epoch 18/20\n",
            "1875/1875 [==============================] - 15s 8ms/step - loss: 0.0032 - accuracy: 0.9800 - val_loss: 0.0031 - val_accuracy: 0.9811\n",
            "Epoch 19/20\n",
            "1875/1875 [==============================] - 15s 8ms/step - loss: 0.0035 - accuracy: 0.9777 - val_loss: 0.0032 - val_accuracy: 0.9806\n",
            "Epoch 20/20\n",
            "1875/1875 [==============================] - 15s 8ms/step - loss: 0.0031 - accuracy: 0.9806 - val_loss: 0.0033 - val_accuracy: 0.9795\n"
          ],
          "name": "stdout"
        },
        {
          "output_type": "execute_result",
          "data": {
            "text/plain": [
              "<tensorflow.python.keras.callbacks.History at 0x7fcdfeba9b10>"
            ]
          },
          "metadata": {
            "tags": []
          },
          "execution_count": 6
        }
      ]
    },
    {
      "cell_type": "code",
      "metadata": {
        "colab": {
          "base_uri": "https://localhost:8080/"
        },
        "id": "VyPPQi8rBgCs",
        "outputId": "7ecbc84a-ab94-4da8-b407-ba562e23f467"
      },
      "source": [
        "print(\"Base accuracy on regular images:\", model.evaluate(x=x_test, y=y_test, verbose=0))"
      ],
      "execution_count": 7,
      "outputs": [
        {
          "output_type": "stream",
          "text": [
            "Base accuracy on regular images: [0.003271447727456689, 0.9794999957084656]\n"
          ],
          "name": "stdout"
        }
      ]
    },
    {
      "cell_type": "code",
      "metadata": {
        "id": "eSFlE4u6B_mW"
      },
      "source": [
        "def adversarial_pattern(image, label):\n",
        "    image = tf.cast(image, tf.float32)\n",
        "    \n",
        "    with tf.GradientTape() as tape:\n",
        "        tape.watch(image)\n",
        "        prediction = model(image)\n",
        "        loss = tf.keras.losses.MSE(label, prediction)\n",
        "    \n",
        "    gradient = tape.gradient(loss, image)\n",
        "    \n",
        "    signed_grad = tf.sign(gradient)\n",
        "    \n",
        "    return signed_grad"
      ],
      "execution_count": 8,
      "outputs": []
    },
    {
      "cell_type": "code",
      "metadata": {
        "id": "MkfFQd6XA5Wp"
      },
      "source": [
        "def generate_adversarials(batch_size):\n",
        "    while True:\n",
        "        x = []\n",
        "        y = []\n",
        "        for batch in range(batch_size):\n",
        "            N = random.randint(0, 100)\n",
        "\n",
        "            label = y_train[N]\n",
        "            image = x_train[N]\n",
        "            \n",
        "            perturbations = adversarial_pattern(image.reshape((1, img_rows, img_cols, channels)), label).numpy()\n",
        "            \n",
        "            \n",
        "            epsilon = 0.1\n",
        "            adversarial = image + perturbations * epsilon\n",
        "            \n",
        "            x.append(adversarial)\n",
        "            y.append(y_train[N])\n",
        "        \n",
        "        \n",
        "        x = np.asarray(x).reshape((batch_size, img_rows, img_cols, channels))\n",
        "        y = np.asarray(y)\n",
        "        \n",
        "        yield x, y"
      ],
      "execution_count": 10,
      "outputs": []
    },
    {
      "cell_type": "code",
      "metadata": {
        "colab": {
          "base_uri": "https://localhost:8080/"
        },
        "id": "KBVZDIUwBkIA",
        "outputId": "4e650576-df03-4c64-b63a-c5ac187acbff"
      },
      "source": [
        "# Generate an adversarial test dataset:\n",
        "x_adversarial_test, y_adversarial_test = next(generate_adversarials(10000)) \n",
        "print(\"Base accuracy on adversarial images:\", model.evaluate(x=x_adversarial_test, y=y_adversarial_test, verbose=0))\n"
      ],
      "execution_count": 11,
      "outputs": [
        {
          "output_type": "stream",
          "text": [
            "Base accuracy on adversarial images: [0.10761824995279312, 0.3619000017642975]\n"
          ],
          "name": "stdout"
        }
      ]
    },
    {
      "cell_type": "markdown",
      "metadata": {
        "id": "thaeHrueC_iU"
      },
      "source": [
        "# Training a defended model <br>\n",
        "Training the model on a generator allows new images to be made to fool the model, which would mean that the model would learn to adapt to more complex images, and become more robust in the process."
      ]
    },
    {
      "cell_type": "code",
      "metadata": {
        "id": "6zpnqi31C1Lu"
      },
      "source": [
        "x_adversarial_train, y_adversarial_train = next(generate_adversarials(20000))\n"
      ],
      "execution_count": 12,
      "outputs": []
    },
    {
      "cell_type": "code",
      "metadata": {
        "colab": {
          "base_uri": "https://localhost:8080/"
        },
        "id": "aK-TN6QwDecO",
        "outputId": "03416ee5-e652-4d1b-d8f5-e9d29ede2b2d"
      },
      "source": [
        "model.fit(x_adversarial_train, y_adversarial_train,\n",
        "          batch_size=32,\n",
        "          epochs=10,\n",
        "          validation_data=(x_test, y_test))"
      ],
      "execution_count": 13,
      "outputs": [
        {
          "output_type": "stream",
          "text": [
            "Epoch 1/10\n",
            "625/625 [==============================] - 5s 9ms/step - loss: 0.0063 - accuracy: 0.9655 - val_loss: 0.0088 - val_accuracy: 0.9515\n",
            "Epoch 2/10\n",
            "625/625 [==============================] - 6s 9ms/step - loss: 0.0014 - accuracy: 0.9929 - val_loss: 0.0091 - val_accuracy: 0.9492\n",
            "Epoch 3/10\n",
            "625/625 [==============================] - 5s 9ms/step - loss: 1.2791e-04 - accuracy: 0.9992 - val_loss: 0.0100 - val_accuracy: 0.9441\n",
            "Epoch 4/10\n",
            "625/625 [==============================] - 5s 9ms/step - loss: 1.2594e-04 - accuracy: 0.9991 - val_loss: 0.0110 - val_accuracy: 0.9394\n",
            "Epoch 5/10\n",
            "625/625 [==============================] - 5s 8ms/step - loss: 2.0336e-04 - accuracy: 0.9987 - val_loss: 0.0115 - val_accuracy: 0.9375\n",
            "Epoch 6/10\n",
            "625/625 [==============================] - 5s 9ms/step - loss: 1.5029e-04 - accuracy: 0.9991 - val_loss: 0.0108 - val_accuracy: 0.9401\n",
            "Epoch 7/10\n",
            "625/625 [==============================] - 5s 9ms/step - loss: 1.0939e-04 - accuracy: 0.9994 - val_loss: 0.0116 - val_accuracy: 0.9368\n",
            "Epoch 8/10\n",
            "625/625 [==============================] - 5s 9ms/step - loss: 1.1924e-04 - accuracy: 0.9992 - val_loss: 0.0125 - val_accuracy: 0.9317\n",
            "Epoch 9/10\n",
            "625/625 [==============================] - 5s 9ms/step - loss: 1.2759e-04 - accuracy: 0.9992 - val_loss: 0.0124 - val_accuracy: 0.9326\n",
            "Epoch 10/10\n",
            "625/625 [==============================] - 5s 9ms/step - loss: 1.5732e-04 - accuracy: 0.9991 - val_loss: 0.0123 - val_accuracy: 0.9336\n"
          ],
          "name": "stdout"
        },
        {
          "output_type": "execute_result",
          "data": {
            "text/plain": [
              "<tensorflow.python.keras.callbacks.History at 0x7fcdfad07150>"
            ]
          },
          "metadata": {
            "tags": []
          },
          "execution_count": 13
        }
      ]
    },
    {
      "cell_type": "code",
      "metadata": {
        "id": "rb7kmAqqDvdk"
      },
      "source": [
        "# Although the model can defeat the images that used to fool it, we can still generate new images based on its weaknesses\n",
        "x_adversarial_test, y_adversarial_test = next(generate_adversarials(10000))\n"
      ],
      "execution_count": 16,
      "outputs": []
    },
    {
      "cell_type": "code",
      "metadata": {
        "colab": {
          "base_uri": "https://localhost:8080/"
        },
        "id": "0JzgpjLHDtlV",
        "outputId": "02b27e91-61b5-4f46-fefa-268667c848ec"
      },
      "source": [
        "print(\"Defended accuracy on adversarial images:\", model.evaluate(x=x_adversarial_test, y=y_adversarial_test, verbose=0))\n",
        "print(\"Defended accuracy on regular images:\", model.evaluate(x=x_test, y=y_test, verbose=0))"
      ],
      "execution_count": 17,
      "outputs": [
        {
          "output_type": "stream",
          "text": [
            "Defended accuracy on adversarial images: [0.01784554496407509, 0.9111999869346619]\n",
            "Defended accuracy on regular images: [0.01233533676713705, 0.9336000084877014]\n"
          ],
          "name": "stdout"
        }
      ]
    },
    {
      "cell_type": "code",
      "metadata": {
        "id": "xygdUm0qEuas"
      },
      "source": [
        ""
      ],
      "execution_count": null,
      "outputs": []
    }
  ]
}